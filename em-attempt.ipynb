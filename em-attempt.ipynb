{
 "cells": [
  {
   "cell_type": "code",
   "execution_count": 1,
   "metadata": {},
   "outputs": [],
   "source": [
    "# CS 124: Machine Learning in Genetics\n",
    "# Project: Haplotype Phaser\n",
    "# Contributors: Aditya Pimplaskar, Aditya Joglekar\n",
    "import numpy as np\n",
    "import pandas as pd\n",
    "\n",
    "# Packages needed\n",
    "\n",
    "# reading and imputing\n",
    "def fillna(col):\n",
    "    if col.value_counts().index[0] == '1':\n",
    "        col.fillna(col.value_counts().index[1], inplace=True) # ensure we don't fill heterozygous\n",
    "    else:\n",
    "        col.fillna(col.value_counts().index[0], inplace=True)\n",
    "    return col\n",
    "\n",
    "def imputeData(df):\n",
    "    df = df.replace('*', np.NaN)\n",
    "    #df = df.astype('int64')\n",
    "    #imputer = SimpleImputer(missing_values=np.nan, strategy= 'most_frequent')\n",
    "    #return pd.DataFrame(imputer.fit_transform(df))\n",
    "    return df.apply(lambda col:fillna(col))\n",
    "\n",
    "def readAndImpute(file):\n",
    "    data = pd.read_csv(file, sep = \" \", header = None)\n",
    "    data = imputeData(data)\n",
    "    data = data.astype('int64')\n",
    "    return data.values.tolist()"
   ]
  },
  {
   "cell_type": "code",
   "execution_count": null,
   "metadata": {},
   "outputs": [],
   "source": [
    "# Partitioning\n",
    "def chunk_with_oneHetero(df, start, num = 0):\n",
    "    rows = 0\n",
    "    numSNPs, numIndivs = df.shape\n",
    "    seen_hetero = np.full((numIndivs), False) # whether or not a 1 has been seen\n",
    "    last_hetero = np.zeros((numIndivs)) # last 1 \n",
    "    while np.all(seen_het) == False: # until every row has seen a heterozygous\n",
    "        if start + rows == numSNPs # end of genotype\n",
    "            break\n",
    "        else:\n",
    "            for index in range(numIndivs):\n",
    "                if df[start+rows, index] == 1:\n",
    "                    seen_hetero[index] = True # update\n",
    "                    last_hetero[index] = start+rows #update\n",
    "            rows = rows + 1 #next row\n",
    "    end = start + rows \n",
    "    next_chunk_start = np.min(last_hetero) + num \n",
    "    og_start = start - num\n",
    "    if next_chunk_start == og_start: # if original start and next start are the same, separate them\n",
    "        end, next_chunk_start = chunk_with_oneHetero(df, start + 1, num = num+1)\n",
    "    return int(end), int(next_chunk_start)\n",
    "\n",
    "def chunk(df, max)"
   ]
  },
  {
   "cell_type": "code",
   "execution_count": null,
   "metadata": {},
   "outputs": [],
   "source": [
    "def one2two(data):\n",
    "    n_snp, m_ind = data.shape\n",
    "    two = (data==2)*1 + (data==1)*-1\n",
    "    out = [two[:,i//2] for i in range(m_ind*2)]\n",
    "    return np.vstack(out).T"
   ]
  }
 ],
 "metadata": {
  "kernelspec": {
   "display_name": "Python 3",
   "language": "python",
   "name": "python3"
  },
  "language_info": {
   "codemirror_mode": {
    "name": "ipython",
    "version": 3
   },
   "file_extension": ".py",
   "mimetype": "text/x-python",
   "name": "python",
   "nbconvert_exporter": "python",
   "pygments_lexer": "ipython3",
   "version": "3.6.4"
  }
 },
 "nbformat": 4,
 "nbformat_minor": 2
}
