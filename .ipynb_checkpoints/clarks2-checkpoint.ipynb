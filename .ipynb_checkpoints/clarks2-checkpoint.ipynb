{
 "cells": [
  {
   "cell_type": "code",
   "execution_count": 7,
   "metadata": {},
   "outputs": [],
   "source": [
    "# CS 124: Machine Learning in Genetics\n",
    "# Project: Haplotype Phaser\n",
    "# Contributors: Aditya Pimplaskar, Aditya Joglekar\n",
    "import numpy as np\n",
    "import pandas as pd\n",
    "\n",
    "# Packages needed"
   ]
  },
  {
   "cell_type": "code",
   "execution_count": 66,
   "metadata": {},
   "outputs": [],
   "source": [
    "# Imputation functions + helpers\n",
    "def fillna(col):\n",
    "    if col.value_counts().index[0] == '1':\n",
    "        col.fillna(col.value_counts().index[1], inplace=True) # ensure we don't fill heterozygous\n",
    "    else:\n",
    "        col.fillna(col.value_counts().index[0], inplace=True)\n",
    "    return col\n",
    "\n",
    "def imputeData(df):\n",
    "    df = df.replace('*', np.NaN)\n",
    "    #df = df.astype('int64')\n",
    "    #imputer = SimpleImputer(missing_values=np.nan, strategy= 'most_frequent')\n",
    "    #return pd.DataFrame(imputer.fit_transform(df))\n",
    "    return df.apply(lambda col:fillna(col))\n",
    "\n",
    "def splitDF(df, numPieces): \n",
    "    return np.array_split(df, numPieces)\n",
    "    \n",
    "def imputeData2(df, chunkSize):\n",
    "    # in: genotype data frame\n",
    "    # out: list of sub-dfs (chunkSize x individuals) \n",
    "                # or (chunkSize-1 x individuals), with individuals on the columns, SNPs on the rows\n",
    "    df = df.replace('*', np.NaN)\n",
    "    splits = splitDF(df, len(df) // chunkSize + 1) # splits data frame into pieces of length 100\n",
    "    for dfi in splits:\n",
    "        dfi = dfi.T\n",
    "        dfi.apply(lambda col:fillna(col)) # fill with most common SNP value for that chunk\n",
    "    return splits #returns list of split up data frames\n",
    "\n",
    "def deleteDups(g):\n",
    "    # goal is to eliminate duplicate genotypes/duplicate haplotypes\n",
    "    g.drop_duplicates(inplace=True)\n",
    "    return g\n",
    "\n",
    "def listToString(l):\n",
    "    l = [str(i) for i in l]\n",
    "    return ''.join(l)\n",
    "\n",
    "def stringToListOfInts(s):\n",
    "    l = list(s)\n",
    "    l = [int(i) for i in l]\n",
    "    return l\n",
    "    \n",
    "def getMostFrequentHaplo(d): \n",
    "    # input is the counts dictionary\n",
    "    return stringToListOfInts(max(d, key=d.get))"
   ]
  },
  {
   "cell_type": "code",
   "execution_count": 45,
   "metadata": {},
   "outputs": [],
   "source": [
    "# Compatibility checker function\n",
    "def checkPhase(g, h1, h2):\n",
    "    # want to see if element wise sum of h1 and h2 is g\n",
    "    # takes list g of SNPs\n",
    "    # takes lists h1, h2 of SNPs\n",
    "    import numpy as np\n",
    "    g = np.array(g)\n",
    "    h1 = np.array(h1)\n",
    "    h2 = np.array(h2)\n",
    "    comparison =  (h1 + h2 == g)\n",
    "    return comparison.all()\n",
    "\n",
    "def findDifference(g, h1): \n",
    "    # so that we can fill in a new haplo if we don't find a compatibile pair in Clark's\n",
    "    g = np.array(g)\n",
    "    h1 = np.array(h1)\n",
    "    return (g - h1).tolist()\n",
    "\n"
   ]
  },
  {
   "cell_type": "code",
   "execution_count": 89,
   "metadata": {},
   "outputs": [],
   "source": [
    "ex1 = pd.read_csv(\"assignment/example_data_1_masked.txt\", sep = \" \", header = None)\n",
    "imputeTest = imputeData2(ex1, 5)"
   ]
  },
  {
   "cell_type": "code",
   "execution_count": 87,
   "metadata": {},
   "outputs": [],
   "source": [
    "def clarksSplit(genotypes):\n",
    "    #input: list of split up dataframes\n",
    "    #output: list of numPeople elements\n",
    "        # for each person -- a list of tuples of potential phases OR a tuple for the phase we have assigned??\n",
    "    #pseudocode\n",
    "        # for each subdf sdf\n",
    "            # transpose sdf so that the SNPs are on the columns\n",
    "            # cast to int64\n",
    "            # for each individual (row) in sdf\n",
    "                # check for deterministic phasing\n",
    "                # add those deterministic phasings to haplotype pool\n",
    "            # for each individual (row) in sdf\n",
    "                # clarks happens here\n",
    "                # if two haplotypes in haplotype pool phase that row, add that phase as a tuple to output\n",
    "                    #increment each of their count\n",
    "                # else\n",
    "                    # add a tuple of (haplotype, genotype - haplotype) to output so long as g-h is valid\n",
    "                    # add the g-h to the haplotype pool\n",
    "                    # g-h count += 1, h count += 1\n",
    "                    \n",
    "    \n",
    "        # dictionary of list casted to string and count of that haplotype\n",
    "    output = [[] for i in range(len(genotypes[0].columns))] \n",
    "        # just a way of getting the right number of elements in output\n",
    "    last_index_seen = 0\n",
    "        \n",
    "    for df_index in range(len(genotypes)):\n",
    "        print(\"starting sub-dataframe\", df_index)\n",
    "        sdf = genotypes[df_index] # get sdf\n",
    "        sdf = sdf.T\n",
    "        sdf = sdf.astype('int64')\n",
    "        \n",
    "        # keep track of these\n",
    "        haplotypes = []\n",
    "        haplotype_counts = {}\n",
    "        phases = [[] for i in range(len(genotypes[0].columns))] # list of list of tuples (phases) for each individual\n",
    "        \n",
    "        # adding deterministic haplotypes to the haplotype pool\n",
    "        for individual, genot in sdf.iterrows():\n",
    "            print(\"deterministic: looking at individual\", individual)\n",
    "            h = []\n",
    "            #genot = sdf.iloc[individual]\n",
    "            genot = list(genot)\n",
    "            for i in range(len(genot)): # for each SNP\n",
    "                adjusted_i = i \n",
    "                if genot[adjusted_i] == 1:\n",
    "                    break\n",
    "                if genot[adjusted_i] == 0:\n",
    "                    h.append(0)\n",
    "                if genot[adjusted_i] == 2:\n",
    "                    h.append(1)\n",
    "            if len(h) == len(genot): # valid\n",
    "                haplotypes.append(h)\n",
    "            \n",
    "    \n",
    "        for individual_again, to_phase in sdf.iterrows():\n",
    "            print(\"clarks: looking at individual\", individual_again)\n",
    "            individuals_phases = []\n",
    "            #to_phase = sdf[individual_again]\n",
    "            to_phase = list(to_phase)\n",
    "            phased = False #flag\n",
    "            for haplo_index1 in range(len(haplotypes)):\n",
    "                # check if check if h1, h1 phases\n",
    "                h1 = haplotypes[haplo_index1]\n",
    "                if checkPhase(to_phase, h1, h1):\n",
    "                    individuals_phases.append((h1, h1))\n",
    "                    phased = True\n",
    "                    \n",
    "                    #updating counts table\n",
    "                    h1_string = listToString(h1) #for hash table of counts\n",
    "                    if h1_string not in haplotype_counts:\n",
    "                        haplotype_counts[h1_string] = 2\n",
    "                    else: \n",
    "                        haplotype_counts[h1_string] += 2\n",
    "                \n",
    "                for haplo_index2 in range(haplo_index1, len(haplotypes)):\n",
    "                    h2 = haplotypes[haplo_index2]\n",
    "                    if checkPhase(to_phase, h1, h2):\n",
    "                        individuals_phases.append((h1, h2))\n",
    "                        phased = True\n",
    "                        \n",
    "                        #updating counts table\n",
    "                        h1_string = listToString(h1)\n",
    "                        h2_string = listToString(h2)\n",
    "                        if h1_string not in haplotype_counts:\n",
    "                            haplotype_counts[h1_string] = 1\n",
    "                        else: \n",
    "                            haplotype_counts[h1_string] += 1\n",
    "                        if h2_string not in haplotype_counts:\n",
    "                            haplotype_counts[h2_string] = 1\n",
    "                        else: \n",
    "                            haplotype_counts[h2_string] += 1\n",
    "                    \n",
    "            if phased == False:\n",
    "                for haplo_index in range(len(haplotypes)):\n",
    "                    h = haplotypes[haplo_index]\n",
    "                    diff = findDifference(to_phase, h)\n",
    "                    if sum(0 <= x <= 1 for x in diff) == len(to_phase): #valid\n",
    "                        diff_string = listToString(diff)\n",
    "                        h_string = listToString(h)\n",
    "                        \n",
    "                        #updating counts table\n",
    "                        if diff_string not in haplotype_counts:\n",
    "                            haplotype_counts[diff_string] = 1\n",
    "                        else: \n",
    "                            haplotype_counts[diff_string] += 1\n",
    "                        if h_string not in haplotype_counts:\n",
    "                            haplotype_counts[h_string] = 1\n",
    "                        else: \n",
    "                            haplotype_counts[h_string] += 1\n",
    "                        \n",
    "                        break\n",
    "            phases[individual_again] = individuals_phases\n",
    "            \n",
    "        # now to consolidate into one phase per individual for each of these subdf\n",
    "        for individual_c in range(len(phases)):\n",
    "            print(\"individual adding to output\", individual_c)\n",
    "            max_count = 0\n",
    "            max_index = 0\n",
    "            for phase_index in range(len(individuals_phases)):\n",
    "                phasing = individuals_phases[phase_index]\n",
    "                if haplotype_counts[listToString(phasing[0])] > max_count or haplotype_counts[listToString(phasing[1])] > max_count:\n",
    "                    max_index = phase_index\n",
    "                \n",
    "            print(\"max index is\", max_index)\n",
    "            output[individual_c].append(individuals_phases[max_index])\n",
    "                \n",
    "                    \n",
    "                    \n",
    "    return output\n",
    "    "
   ]
  },
  {
   "cell_type": "code",
   "execution_count": 40,
   "metadata": {},
   "outputs": [
    {
     "data": {
      "text/plain": [
       "'111'"
      ]
     },
     "execution_count": 40,
     "metadata": {},
     "output_type": "execute_result"
    }
   ],
   "source": [
    "a = [1,1,1]\n",
    "listToString(a)"
   ]
  },
  {
   "cell_type": "code",
   "execution_count": 44,
   "metadata": {},
   "outputs": [],
   "source": [
    "h = []\n",
    "genot = [1,2,2,2,2]\n",
    "for i in range(len(genot)): # for each SNP\n",
    "    adjusted_i = i\n",
    "    if genot[adjusted_i] == 1:\n",
    "        break\n",
    "    if genot[adjusted_i] == 0:\n",
    "        h.append(0)\n",
    "    if genot[adjusted_i] == 2:\n",
    "        h.append(1)\n",
    "if len(h) == len(genot): # valid\n",
    "    print(h)\n",
    "\n",
    "    \n"
   ]
  },
  {
   "cell_type": "code",
   "execution_count": 53,
   "metadata": {},
   "outputs": [
    {
     "data": {
      "text/plain": [
       "{1: 2, 2: 0, 3: 4, 5: 6}"
      ]
     },
     "execution_count": 53,
     "metadata": {},
     "output_type": "execute_result"
    }
   ],
   "source": [
    "b = {1:2, 3:4, 5:6}\n",
    "if 2 in b:\n",
    "    b[3] += 1\n",
    "else:\n",
    "    b[2] = 0\n",
    "\n",
    "b"
   ]
  },
  {
   "cell_type": "code",
   "execution_count": 55,
   "metadata": {},
   "outputs": [
    {
     "data": {
      "text/plain": [
       "True"
      ]
     },
     "execution_count": 55,
     "metadata": {},
     "output_type": "execute_result"
    }
   ],
   "source": [
    "a = (2,3)\n",
    "3 in a"
   ]
  },
  {
   "cell_type": "code",
   "execution_count": 64,
   "metadata": {},
   "outputs": [
    {
     "data": {
      "text/plain": [
       "[1, 2, 3]"
      ]
     },
     "execution_count": 64,
     "metadata": {},
     "output_type": "execute_result"
    }
   ],
   "source": [
    "c = \"123\"\n",
    "list(c)\n",
    "c = [int(s) for s in c]\n",
    "c"
   ]
  },
  {
   "cell_type": "code",
   "execution_count": 65,
   "metadata": {},
   "outputs": [
    {
     "data": {
      "text/plain": [
       "5"
      ]
     },
     "execution_count": 65,
     "metadata": {},
     "output_type": "execute_result"
    }
   ],
   "source": [
    "max(b, key=b.get)"
   ]
  },
  {
   "cell_type": "code",
   "execution_count": 67,
   "metadata": {},
   "outputs": [
    {
     "data": {
      "text/plain": [
       "[1, 0, 0]"
      ]
     },
     "execution_count": 67,
     "metadata": {},
     "output_type": "execute_result"
    }
   ],
   "source": [
    "d = {\"111\": 2, \"222\": 1, \"000\": 3, \"100\": 7}\n",
    "getMostFrequentHaplo(d)"
   ]
  },
  {
   "cell_type": "code",
   "execution_count": 76,
   "metadata": {},
   "outputs": [
    {
     "data": {
      "text/plain": [
       "[[1, 2, 3], [4, 5, 6], [7, 8, 9]]"
      ]
     },
     "execution_count": 76,
     "metadata": {},
     "output_type": "execute_result"
    }
   ],
   "source": [
    "check = [[],[],[]]\n",
    "for i, g in pd.DataFrame([[1,2,3],[4,5,6],[7,8,9]]).iterrows():\n",
    "    check[i] = list(g)\n",
    "\n",
    "check"
   ]
  },
  {
   "cell_type": "code",
   "execution_count": 90,
   "metadata": {},
   "outputs": [
    {
     "name": "stdout",
     "output_type": "stream",
     "text": [
      "starting sub-dataframe 0\n",
      "deterministic: looking at individual 0\n",
      "deterministic: looking at individual 1\n",
      "deterministic: looking at individual 2\n",
      "deterministic: looking at individual 3\n",
      "deterministic: looking at individual 4\n",
      "deterministic: looking at individual 5\n",
      "deterministic: looking at individual 6\n",
      "deterministic: looking at individual 7\n",
      "deterministic: looking at individual 8\n",
      "deterministic: looking at individual 9\n",
      "deterministic: looking at individual 10\n",
      "deterministic: looking at individual 11\n",
      "deterministic: looking at individual 12\n",
      "deterministic: looking at individual 13\n",
      "deterministic: looking at individual 14\n",
      "deterministic: looking at individual 15\n",
      "deterministic: looking at individual 16\n",
      "deterministic: looking at individual 17\n",
      "deterministic: looking at individual 18\n",
      "deterministic: looking at individual 19\n",
      "deterministic: looking at individual 20\n",
      "deterministic: looking at individual 21\n",
      "deterministic: looking at individual 22\n",
      "deterministic: looking at individual 23\n",
      "deterministic: looking at individual 24\n",
      "deterministic: looking at individual 25\n",
      "deterministic: looking at individual 26\n",
      "deterministic: looking at individual 27\n",
      "deterministic: looking at individual 28\n",
      "deterministic: looking at individual 29\n",
      "deterministic: looking at individual 30\n",
      "deterministic: looking at individual 31\n",
      "deterministic: looking at individual 32\n",
      "deterministic: looking at individual 33\n",
      "deterministic: looking at individual 34\n",
      "deterministic: looking at individual 35\n",
      "deterministic: looking at individual 36\n",
      "deterministic: looking at individual 37\n",
      "deterministic: looking at individual 38\n",
      "deterministic: looking at individual 39\n",
      "deterministic: looking at individual 40\n",
      "deterministic: looking at individual 41\n",
      "deterministic: looking at individual 42\n",
      "deterministic: looking at individual 43\n",
      "deterministic: looking at individual 44\n",
      "deterministic: looking at individual 45\n",
      "deterministic: looking at individual 46\n",
      "deterministic: looking at individual 47\n",
      "deterministic: looking at individual 48\n",
      "deterministic: looking at individual 49\n",
      "clarks: looking at individual 0\n",
      "clarks: looking at individual 1\n",
      "clarks: looking at individual 2\n",
      "clarks: looking at individual 3\n",
      "clarks: looking at individual 4\n",
      "clarks: looking at individual 5\n",
      "clarks: looking at individual 6\n",
      "clarks: looking at individual 7\n",
      "clarks: looking at individual 8\n",
      "clarks: looking at individual 9\n",
      "clarks: looking at individual 10\n",
      "clarks: looking at individual 11\n",
      "clarks: looking at individual 12\n",
      "clarks: looking at individual 13\n",
      "clarks: looking at individual 14\n",
      "clarks: looking at individual 15\n",
      "clarks: looking at individual 16\n",
      "clarks: looking at individual 17\n",
      "clarks: looking at individual 18\n",
      "clarks: looking at individual 19\n",
      "clarks: looking at individual 20\n",
      "clarks: looking at individual 21\n",
      "clarks: looking at individual 22\n",
      "clarks: looking at individual 23\n",
      "clarks: looking at individual 24\n",
      "clarks: looking at individual 25\n",
      "clarks: looking at individual 26\n",
      "clarks: looking at individual 27\n",
      "clarks: looking at individual 28\n",
      "clarks: looking at individual 29\n",
      "clarks: looking at individual 30\n",
      "clarks: looking at individual 31\n",
      "clarks: looking at individual 32\n",
      "clarks: looking at individual 33\n",
      "clarks: looking at individual 34\n",
      "clarks: looking at individual 35\n",
      "clarks: looking at individual 36\n",
      "clarks: looking at individual 37\n",
      "clarks: looking at individual 38\n",
      "clarks: looking at individual 39\n",
      "clarks: looking at individual 40\n",
      "clarks: looking at individual 41\n",
      "clarks: looking at individual 42\n",
      "clarks: looking at individual 43\n",
      "clarks: looking at individual 44\n",
      "clarks: looking at individual 45\n",
      "clarks: looking at individual 46\n",
      "clarks: looking at individual 47\n",
      "clarks: looking at individual 48\n",
      "clarks: looking at individual 49\n",
      "individual adding to output 0\n",
      "max index is 0\n"
     ]
    },
    {
     "ename": "IndexError",
     "evalue": "list index out of range",
     "output_type": "error",
     "traceback": [
      "\u001b[0;31m---------------------------------------------------------------------------\u001b[0m",
      "\u001b[0;31mIndexError\u001b[0m                                Traceback (most recent call last)",
      "\u001b[0;32m<ipython-input-90-2a2f2cf7c856>\u001b[0m in \u001b[0;36m<module>\u001b[0;34m()\u001b[0m\n\u001b[0;32m----> 1\u001b[0;31m \u001b[0mtrial\u001b[0m \u001b[0;34m=\u001b[0m \u001b[0mclarksSplit\u001b[0m\u001b[0;34m(\u001b[0m\u001b[0mimputeTest\u001b[0m\u001b[0;34m)\u001b[0m\u001b[0;34m\u001b[0m\u001b[0m\n\u001b[0m",
      "\u001b[0;32m<ipython-input-87-5de437bebe2a>\u001b[0m in \u001b[0;36mclarksSplit\u001b[0;34m(genotypes)\u001b[0m\n\u001b[1;32m    124\u001b[0m \u001b[0;34m\u001b[0m\u001b[0m\n\u001b[1;32m    125\u001b[0m             \u001b[0mprint\u001b[0m\u001b[0;34m(\u001b[0m\u001b[0;34m\"max index is\"\u001b[0m\u001b[0;34m,\u001b[0m \u001b[0mmax_index\u001b[0m\u001b[0;34m)\u001b[0m\u001b[0;34m\u001b[0m\u001b[0m\n\u001b[0;32m--> 126\u001b[0;31m             \u001b[0moutput\u001b[0m\u001b[0;34m[\u001b[0m\u001b[0mindividual_c\u001b[0m\u001b[0;34m]\u001b[0m\u001b[0;34m.\u001b[0m\u001b[0mappend\u001b[0m\u001b[0;34m(\u001b[0m\u001b[0mindividuals_phases\u001b[0m\u001b[0;34m[\u001b[0m\u001b[0mmax_index\u001b[0m\u001b[0;34m]\u001b[0m\u001b[0;34m)\u001b[0m\u001b[0;34m\u001b[0m\u001b[0m\n\u001b[0m\u001b[1;32m    127\u001b[0m \u001b[0;34m\u001b[0m\u001b[0m\n\u001b[1;32m    128\u001b[0m \u001b[0;34m\u001b[0m\u001b[0m\n",
      "\u001b[0;31mIndexError\u001b[0m: list index out of range"
     ]
    }
   ],
   "source": [
    "trial = clarksSplit(imputeTest)"
   ]
  },
  {
   "cell_type": "code",
   "execution_count": null,
   "metadata": {},
   "outputs": [],
   "source": []
  }
 ],
 "metadata": {
  "kernelspec": {
   "display_name": "Python 3",
   "language": "python",
   "name": "python3"
  },
  "language_info": {
   "codemirror_mode": {
    "name": "ipython",
    "version": 3
   },
   "file_extension": ".py",
   "mimetype": "text/x-python",
   "name": "python",
   "nbconvert_exporter": "python",
   "pygments_lexer": "ipython3",
   "version": "3.6.4"
  }
 },
 "nbformat": 4,
 "nbformat_minor": 2
}
