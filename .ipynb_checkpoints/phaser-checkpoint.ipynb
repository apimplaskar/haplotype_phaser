{
 "cells": [
  {
   "cell_type": "code",
   "execution_count": null,
   "metadata": {},
   "outputs": [],
   "source": [
    "# CS 124: Machine Learning in Genetics\n",
    "# Project: Haplotype Phaser\n",
    "# Contributors: Aditya Pimplaskar, Aditya Joglekar\n",
    "import numpy as np\n",
    "import pandas as pd\n",
    "from sklearn.impute import KNNImputer"
   ]
  },
  {
   "cell_type": "code",
   "execution_count": 1,
   "metadata": {},
   "outputs": [],
   "source": [
    "# Imputation functions\n",
    "def fillna(col):\n",
    "    col.fillna(col.value_counts().index[0], inplace=True)\n",
    "    return col\n",
    "\n",
    "def imputeData(df):\n",
    "    return df.apply(lambda col:fillna(col))\n",
    "    "
   ]
  },
  {
   "cell_type": "code",
   "execution_count": null,
   "metadata": {},
   "outputs": [],
   "source": [
    "# Compatibility checker function\n",
    "def checkPhase(g, h1, h2):\n",
    "    # want to see if element wise sum of h1 and h2 is g\n",
    "    import numpy as np\n",
    "    g = np.array(g)\n",
    "    h1 = np.array(h1)\n",
    "    h2 = np.array(h2)\n",
    "    return h1 + h2 == g\n",
    "\n",
    "def findDifference(g, h1): \n",
    "    # so that we can fill in a new haplo if we don't find a compatibile pair in Clark's\n",
    "    g = np.array(g)\n",
    "    h1 = np.array(h1)\n",
    "    return g - h1\n",
    "    \n",
    "    "
   ]
  },
  {
   "cell_type": "code",
   "execution_count": 7,
   "metadata": {},
   "outputs": [],
   "source": [
    "def clarks(genotypes):\n",
    "    # need to give a starting pool\n",
    "    # we can do this by phasing all of the deterministic genotypes\n",
    "    haplotypes = []\n",
    "    \n",
    "    for ind in range(len(genotypes)):\n",
    "        h = []\n",
    "        g = genotypes[ind]\n",
    "        for i in g:\n",
    "            if i == 1: #non deterministic\n",
    "                break\n",
    "            if i == 0:\n",
    "                h.append(0)\n",
    "            if i == 2:\n",
    "                h.append(1)\n",
    "        if len(h) == len(g):\n",
    "            haplotypes.append(h)\n",
    "            genotypes.drop(genotypes.index[ind]) #thins out our new genotype list\n",
    "        \n",
    "    for g in genotypes:\n",
    "        phased = False #flag variable\n",
    "        for h1 in haplotypes:\n",
    "            for h2 in haplotypes:\n",
    "                if checkPhase(g,h1,h2): # we already have the phase accounted for\n",
    "                    phased = True\n",
    "        if phased == False: # now we need to add a haplo that works\n",
    "            for h in haplotypes:\n",
    "                test = findDifference(g, h)\n",
    "                # now just need to make sure this difference has no weird values -- i.e. is a valid addition\n",
    "                if len([x for x in test if x == 0 or x == 1]) == len(g):\n",
    "                    haplotypes.append(h)\n",
    "    \n",
    "    return haplotypes"
   ]
  },
  {
   "cell_type": "code",
   "execution_count": null,
   "metadata": {},
   "outputs": [],
   "source": []
  }
 ],
 "metadata": {
  "kernelspec": {
   "display_name": "Python 3",
   "language": "python",
   "name": "python3"
  },
  "language_info": {
   "codemirror_mode": {
    "name": "ipython",
    "version": 3
   },
   "file_extension": ".py",
   "mimetype": "text/x-python",
   "name": "python",
   "nbconvert_exporter": "python",
   "pygments_lexer": "ipython3",
   "version": "3.6.4"
  }
 },
 "nbformat": 4,
 "nbformat_minor": 2
}
