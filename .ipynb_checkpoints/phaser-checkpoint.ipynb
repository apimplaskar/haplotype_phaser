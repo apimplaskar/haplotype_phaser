{
 "cells": [
  {
   "cell_type": "code",
   "execution_count": 4,
   "metadata": {},
   "outputs": [],
   "source": [
    "# CS 124: Machine Learning in Genetics\n",
    "# Project: Haplotype Phaser\n",
    "# Contributors: Aditya Pimplaskar, Aditya Joglekar\n",
    "import numpy as np\n",
    "import pandas as pd\n",
    "from sklearn.impute import KNNImputer\n",
    "from sklearn.impute import SimpleImputer"
   ]
  },
  {
   "cell_type": "code",
   "execution_count": 19,
   "metadata": {},
   "outputs": [],
   "source": [
    "# Imputation functions\n",
    "def fillna(col):\n",
    "    if col.value_counts().index[0] == '1':\n",
    "        col.fillna(col.value_counts().index[1], inplace=True) # ensure we don't fill heterozygous\n",
    "    else:\n",
    "        col.fillna(col.value_counts().index[0], inplace=True)\n",
    "    return col\n",
    "\n",
    "def imputeData(df):\n",
    "    df = df.replace('*', np.NaN)\n",
    "    #df = df.astype('int64')\n",
    "    #imputer = SimpleImputer(missing_values=np.nan, strategy= 'most_frequent')\n",
    "    #return pd.DataFrame(imputer.fit_transform(df))\n",
    "    return df.apply(lambda col:fillna(col))\n",
    "\n",
    "\n",
    "def deleteDups(g):\n",
    "    # goal is to eliminate duplicate genotypes/duplicate haplotypes\n",
    "    g = g.drop_duplicates(inplace=True)\n",
    "    return g"
   ]
  },
  {
   "cell_type": "code",
   "execution_count": 6,
   "metadata": {},
   "outputs": [],
   "source": [
    "# Compatibility checker function\n",
    "def checkPhase(g, h1, h2):\n",
    "    # want to see if element wise sum of h1 and h2 is g\n",
    "    # takes list g of SNPs\n",
    "    # takes lists h1, h2 of SNPs\n",
    "    import numpy as np\n",
    "    g = np.array(g)\n",
    "    h1 = np.array(h1)\n",
    "    h2 = np.array(h2)\n",
    "    comparison =  (h1 + h2 == g)\n",
    "    return comparison.all()\n",
    "\n",
    "def findDifference(g, h1): \n",
    "    # so that we can fill in a new haplo if we don't find a compatibile pair in Clark's\n",
    "    g = np.array(g)\n",
    "    h1 = np.array(h1)\n",
    "    return g - h1\n"
   ]
  },
  {
   "cell_type": "code",
   "execution_count": null,
   "metadata": {},
   "outputs": [],
   "source": [
    "def clarks(genotypes):\n",
    "    # need to give a starting pool\n",
    "    # we can do this by phasing all of the deterministic genotypes\n",
    "    genotypes = genotypes.astype('int64')\n",
    "    haplotypes = []\n",
    "    \n",
    "    toDrop = [] # deterministic\n",
    "    for ind in range(len(genotypes)):\n",
    "        h = []\n",
    "        g = genotypes.iloc[ind]\n",
    "        for i in range(len(g)):\n",
    "            if g[i] == 1: #non deterministic\n",
    "                break\n",
    "            if g[i] == 0:\n",
    "                h.append(0)\n",
    "            if g[i] == 2:\n",
    "                h.append(1)\n",
    "        if len(h) == len(g): # did you make it to the end of the string\n",
    "            haplotypes.append(h)\n",
    "            toDrop.append(ind) #thins out our new genotype list\n",
    "    genotypes = genotypes.drop(genotypes.index[toDrop])\n",
    "    \n",
    "    for i,g in genotypes.iterrows():\n",
    "        phased = False #flag variable\n",
    "        for h1 in range(len(haplotypes)):\n",
    "            for h2 in range(h1, len(haplotypes)):\n",
    "                if checkPhase(g,haplotypes[h1],haplotypes[h2]): # we already have the phase accounted for\n",
    "                    phased = True\n",
    "        if phased == False: # now we need to add a haplo that works\n",
    "            for h in haplotypes:\n",
    "                diff = findDifference(g, h)\n",
    "                # now just need to make sure this difference has no weird values -- i.e. is a valid addition\n",
    "                if sum(0 <= x <= 1 for x in diff) == len(g):\n",
    "                    haplotypes.append(h)\n",
    "                    break\n",
    "    \n",
    "    return haplotypes"
   ]
  },
  {
   "cell_type": "code",
   "execution_count": 8,
   "metadata": {},
   "outputs": [],
   "source": [
    "def wrapper(genotypes):\n",
    "    # do it all\n",
    "    genotypes = genotypes.T\n",
    "    genotypes = imputeData(genotypes) # impute\n",
    "    genotypes = genotypes.astype('int64')\n",
    "    deleteDups(genotypes) # get rid of duplicates\n",
    "    return clarks(genotypes)"
   ]
  },
  {
   "cell_type": "code",
   "execution_count": 53,
   "metadata": {},
   "outputs": [],
   "source": [
    "ex1 = pd.read_csv(\"assignment/example_data_1_masked.txt\", sep = \" \", header=None)\n",
    "pd.set_option('display.max_columns', 100)"
   ]
  },
  {
   "cell_type": "code",
   "execution_count": 54,
   "metadata": {},
   "outputs": [],
   "source": [
    "ex1 = imputeData(ex1)\n",
    "ex1 = ex1.T"
   ]
  },
  {
   "cell_type": "code",
   "execution_count": 55,
   "metadata": {},
   "outputs": [
    {
     "data": {
      "text/plain": [
       "(50, 39496)"
      ]
     },
     "execution_count": 55,
     "metadata": {},
     "output_type": "execute_result"
    }
   ],
   "source": [
    "ex1 = ex1.astype('int64')\n",
    "ex1.shape"
   ]
  },
  {
   "cell_type": "code",
   "execution_count": 56,
   "metadata": {},
   "outputs": [
    {
     "data": {
      "text/plain": [
       "(50, 39496)"
      ]
     },
     "execution_count": 56,
     "metadata": {},
     "output_type": "execute_result"
    }
   ],
   "source": [
    "deleteDups(ex1)\n",
    "ex1.shape\n"
   ]
  },
  {
   "cell_type": "code",
   "execution_count": 57,
   "metadata": {},
   "outputs": [
    {
     "data": {
      "text/plain": [
       "39496"
      ]
     },
     "execution_count": 57,
     "metadata": {},
     "output_type": "execute_result"
    }
   ],
   "source": [
    "len(ex1.iloc[0])"
   ]
  },
  {
   "cell_type": "code",
   "execution_count": 58,
   "metadata": {},
   "outputs": [],
   "source": [
    "haplotypes = []\n",
    "    \n",
    "toDrop = [] # deterministic\n",
    "for ind in range(len(ex1)):\n",
    "    h = []\n",
    "    g = ex1.iloc[ind]\n",
    "    for i in range(len(g)):\n",
    "        if g[i] == 1: #non deterministic\n",
    "            break\n",
    "        if g[i] == 0:\n",
    "            h.append(0)\n",
    "        if g[i] == 2:\n",
    "            h.append(1)\n",
    "    if len(h) == len(g): # did you make it to the end of the string\n",
    "        haplotypes.append(h)\n",
    "        toDrop.append(ind) #thins out our new genotype list\n",
    "ex1 = ex1.drop(ex1.index[toDrop])"
   ]
  },
  {
   "cell_type": "code",
   "execution_count": 59,
   "metadata": {},
   "outputs": [
    {
     "data": {
      "text/plain": [
       "0"
      ]
     },
     "execution_count": 59,
     "metadata": {},
     "output_type": "execute_result"
    }
   ],
   "source": [
    "len(haplotypes)"
   ]
  },
  {
   "cell_type": "code",
   "execution_count": null,
   "metadata": {},
   "outputs": [],
   "source": []
  }
 ],
 "metadata": {
  "kernelspec": {
   "display_name": "Python 3",
   "language": "python",
   "name": "python3"
  },
  "language_info": {
   "codemirror_mode": {
    "name": "ipython",
    "version": 3
   },
   "file_extension": ".py",
   "mimetype": "text/x-python",
   "name": "python",
   "nbconvert_exporter": "python",
   "pygments_lexer": "ipython3",
   "version": "3.6.4"
  }
 },
 "nbformat": 4,
 "nbformat_minor": 2
}
